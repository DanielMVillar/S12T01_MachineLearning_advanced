{
 "cells": [
  {
   "cell_type": "code",
   "execution_count": 50,
   "id": "a5419063",
   "metadata": {},
   "outputs": [],
   "source": [
    "#importing python libraries and modules\n",
    "\n",
    "#libraries & modules\n",
    "import numpy as np #library for scientific computing\n",
    "import pandas as pd #library for dataframes \n",
    "import matplotlib.pyplot as plt #graphic library\n",
    "import seaborn as sns #advanced graphic library based on matplotlib\n",
    "import warnings #library to manage warnings\n",
    "import scipy #library with algorithms for statistics and scientific computing\n",
    "from sklearn.tree import DecisionTreeClassifier #classification algorithm\n",
    "from sklearn.neighbors import KNeighborsClassifier #classification algorith\n",
    "from sklearn.linear_model import LogisticRegression\n",
    "from sklearn.model_selection import GridSearchCV #optimization parameter algorithm\n",
    "from sklearn.model_selection import cross_val_score #cross validation algorithm\n",
    "from sklearn.model_selection import train_test_split #train test split \n",
    "from sklearn import metrics\n",
    "from sklearn.metrics import confusion_matrix #metrics tool\n",
    "from sklearn.metrics import classification_report #metrics tool\n",
    "from sklearn.preprocessing import StandardScaler #feature engineering tool\n",
    "import category_encoders as ce #one hot encoding tool\n",
    "from sklearn.ensemble import RandomForestClassifier\n",
    "from sklearn.pipeline import Pipeline\n",
    "from sklearn.compose import ColumnTransformer\n",
    "\n",
    "warnings.filterwarnings('ignore')"
   ]
  },
  {
   "cell_type": "markdown",
   "id": "55d21efb",
   "metadata": {},
   "source": [
    "### EDA (Exploratory Data Analysis)\n",
    "\n",
    "- we obtain a dataset from UCI (https://archive.ics.uci.edu/ml/index.php)\n",
    "- This data was extracted from the 1994 Census bureau database by Ronny Kohavi and Barry Becker \n",
    "- The prediction task is to determine whether a person makes over $50K a year."
   ]
  },
  {
   "cell_type": "code",
   "execution_count": 51,
   "id": "ff0ccdae",
   "metadata": {},
   "outputs": [],
   "source": [
    "#importing dataset\n",
    "\n",
    "names = ['age', 'workclass', 'fnlwgt', 'education', 'education-num', 'marital-status', \n",
    "         'occupation', 'relationship', 'race','sex','capital-gain',\n",
    "         'capital-loss','hours-per-week','native-country','salary']\n",
    "df_census = pd.read_csv('adult.data', names=names) "
   ]
  },
  {
   "cell_type": "markdown",
   "id": "8fcb7129",
   "metadata": {},
   "source": [
    "#### Dataset Explanation\n",
    "\n",
    "1. age: continuous.\n",
    "1. workclass: Private, Self-emp-not-inc, Self-emp-inc, Federal-gov, Local-gov, State-gov, Without-pay, Never-worked.\n",
    "1. fnlwgt (Final weight): continuous. It is the number of people the census believes the entry represents.\n",
    "1. education: Bachelors, Some-college, 11th, HS-grad, Prof-school, Assoc-acdm, Assoc-voc, 9th, 7th-8th, 12th, Masters, 1st-4th, 10th, Doctorate, 5th-6th, Preschool.\n",
    "1. education-num: continous. It is the number of years spent in education. \n",
    "1. marital-status: Married-civ-spouse, Divorced, Never-married, Separated, Widowed, Married-spouse-absent, Married-AF-spouse.\n",
    "1. occupation: Tech-support, Craft-repair, Other-service, Sales, Exec-managerial, Prof-specialty, Handlers-cleaners, Machine-op-inspct, Adm-clerical, Farming-fishing, Transport-moving, Priv-house-serv, Protective-serv, Armed-Forces.\n",
    "1. relationship: Wife, Own-child, Husband, Not-in-family, Other-relative, Unmarried.\n",
    "1. race: White, Asian-Pac-Islander, Amer-Indian-Eskimo, Other, Black.\n",
    "1. sex: Female, Male.\n",
    "1. capital-gain: continuous.\n",
    "1. capital-loss: continuous.\n",
    "1. hours-per-week: continuous.\n",
    "1. native-country: United-States, Cambodia, England, Puerto-Rico, Canada, Germany, Outlying-US(Guam-USVI-etc), India, Japan, Greece, South, China, Cuba, Iran, Honduras, Philippines, Italy, Poland, Jamaica, Vietnam, Mexico, Portugal, Ireland, France, Dominican-Republic, Laos, Ecuador, Taiwan, Haiti, Columbia, Hungary, Guatemala, Nicaragua, Scotland, Thailand, Yugoslavia, El-Salvador, Trinadad&Tobago, Peru, Hong, Holand-Netherlands.\n",
    "1. salary: If it is above 50k USD or equal or below "
   ]
  },
  {
   "cell_type": "code",
   "execution_count": 52,
   "id": "b5d908ad",
   "metadata": {},
   "outputs": [
    {
     "name": "stdout",
     "output_type": "stream",
     "text": [
      "                             0                    1                   2\n",
      "age                         39                   50                  38\n",
      "workclass            State-gov     Self-emp-not-inc             Private\n",
      "fnlwgt                   77516                83311              215646\n",
      "education            Bachelors            Bachelors             HS-grad\n",
      "education-num               13                   13                   9\n",
      "marital-status   Never-married   Married-civ-spouse            Divorced\n",
      "occupation        Adm-clerical      Exec-managerial   Handlers-cleaners\n",
      "relationship     Not-in-family              Husband       Not-in-family\n",
      "race                     White                White               White\n",
      "sex                       Male                 Male                Male\n",
      "capital-gain              2174                    0                   0\n",
      "capital-loss                 0                    0                   0\n",
      "hours-per-week              40                   13                  40\n",
      "native-country   United-States        United-States       United-States\n",
      "salary                   <=50K                <=50K               <=50K \n",
      "\n",
      "<class 'pandas.core.frame.DataFrame'>\n",
      "RangeIndex: 32561 entries, 0 to 32560\n",
      "Data columns (total 15 columns):\n",
      " #   Column          Non-Null Count  Dtype \n",
      "---  ------          --------------  ----- \n",
      " 0   age             32561 non-null  int64 \n",
      " 1   workclass       32561 non-null  object\n",
      " 2   fnlwgt          32561 non-null  int64 \n",
      " 3   education       32561 non-null  object\n",
      " 4   education-num   32561 non-null  int64 \n",
      " 5   marital-status  32561 non-null  object\n",
      " 6   occupation      32561 non-null  object\n",
      " 7   relationship    32561 non-null  object\n",
      " 8   race            32561 non-null  object\n",
      " 9   sex             32561 non-null  object\n",
      " 10  capital-gain    32561 non-null  int64 \n",
      " 11  capital-loss    32561 non-null  int64 \n",
      " 12  hours-per-week  32561 non-null  int64 \n",
      " 13  native-country  32561 non-null  object\n",
      " 14  salary          32561 non-null  object\n",
      "dtypes: int64(6), object(9)\n",
      "memory usage: 3.7+ MB\n",
      "None\n",
      "                  count           mean            std      min       25%  \\\n",
      "age             32561.0      38.581647      13.640433     17.0      28.0   \n",
      "fnlwgt          32561.0  189778.366512  105549.977697  12285.0  117827.0   \n",
      "education-num   32561.0      10.080679       2.572720      1.0       9.0   \n",
      "capital-gain    32561.0    1077.648844    7385.292085      0.0       0.0   \n",
      "capital-loss    32561.0      87.303830     402.960219      0.0       0.0   \n",
      "hours-per-week  32561.0      40.437456      12.347429      1.0      40.0   \n",
      "\n",
      "                     50%       75%        max  \n",
      "age                 37.0      48.0       90.0  \n",
      "fnlwgt          178356.0  237051.0  1484705.0  \n",
      "education-num       10.0      12.0       16.0  \n",
      "capital-gain         0.0       0.0    99999.0  \n",
      "capital-loss         0.0       0.0     4356.0  \n",
      "hours-per-week      40.0      45.0       99.0  \n"
     ]
    }
   ],
   "source": [
    "#dataset information\n",
    "\n",
    "print(df_census.head(3).transpose(),\"\\n\")\n",
    "print(df_census.info(null_counts=True))\n",
    "print(df_census.describe().transpose())"
   ]
  },
  {
   "cell_type": "code",
   "execution_count": 53,
   "id": "24bdf357",
   "metadata": {},
   "outputs": [
    {
     "name": "stdout",
     "output_type": "stream",
     "text": [
      "0       31042\n",
      "1902      202\n",
      "1977      168\n",
      "1887      159\n",
      "1848       51\n",
      "        ...  \n",
      "2080        1\n",
      "1539        1\n",
      "1844        1\n",
      "2489        1\n",
      "1411        1\n",
      "Name: capital-loss, Length: 92, dtype: int64\n",
      " <=50K    24720\n",
      " >50K      7841\n",
      "Name: salary, dtype: int64\n"
     ]
    },
    {
     "data": {
      "image/png": "[encoded data removed]",
      "text/plain": [
       "<Figure size 360x360 with 1 Axes>"
      ]
     },
     "metadata": {
      "needs_background": "light"
     },
     "output_type": "display_data"
    }
   ],
   "source": [
    "#I have use this code to explore this dataframe\n",
    "print(df_census['capital-loss'].value_counts())\n",
    "\n",
    "fig1 = sns.displot(x=df_census['capital-loss'], kde=True)\n",
    "fig1.set(title='Data Distribution', xlabel='capital-loss', ylabel='Count')\n",
    "\n",
    "print(df_census['salary'].value_counts())"
   ]
  },
  {
   "cell_type": "markdown",
   "id": "f3d89c9d",
   "metadata": {},
   "source": [
    "#### Conclusions:\n",
    "- The dataset does not contain any NaN data.\n",
    "- There are 9 categorical and 6 numerical features\n",
    "- The column 'salary' is the dependant variable, the column we have to classify\n",
    "- Class data is 24720 for below 50K and 7841 for above 50K. It is slightly imbalanced (aprox 1:3), so at the moment will use this data as that, if we want to improve results we can try to balance data.\n",
    "- The column 'fnlwgt' does not give any useful information and does not have normal distribution.\n",
    "- The column 'capital-loss' and 'capital-gain', almost all values are 0 and its distribution is not normal."
   ]
  },
  {
   "cell_type": "markdown",
   "id": "278138da",
   "metadata": {},
   "source": [
    "### Exercici 1 (Nivell 1)\n",
    "#### Agafa el conjunt de dades que vulguis i realitza un pipeline i un gridsearch aplicant l'algorisme de Random Forest."
   ]
  },
  {
   "cell_type": "markdown",
   "id": "f1478275",
   "metadata": {},
   "source": [
    "- first we build a prototype machine learning model on the exisiting data before we create a pipeline\n",
    "\n"
   ]
  },
  {
   "cell_type": "code",
   "execution_count": 311,
   "id": "eacbd8ae",
   "metadata": {},
   "outputs": [],
   "source": [
    "#adding a new column 'Over 50K' for classes\n",
    "df_census.loc[df_census['salary'].str.contains('<=50K'), 'Over_50K'] = 1\n",
    "df_census.loc[df_census['salary'].str.contains(\">50K\"), 'Over_50K'] = 0\n",
    "\n",
    "#deleting features that are not important\n",
    "columns_del = ['fnlwgt','capital-gain', 'capital-loss','salary']\n",
    "df_census.drop(columns=columns_del, inplace=True)\n",
    "\n",
    "#if we want to balance data\n",
    "#we wil apply the method sample disproportionate to each stratum\n",
    "#sample_stratum = 7841\n",
    "#df_census = df_census.groupby('Over_50K', group_keys=False).apply(lambda x: x.sample(sample_stratum))"
   ]
  },
  {
   "cell_type": "code",
   "execution_count": 312,
   "id": "4c421a64",
   "metadata": {},
   "outputs": [],
   "source": [
    "#pre-processing\n",
    "\n",
    "#feature engineering: one-hot encoding\n",
    "#selecting categorical features\n",
    "columns_1 = ['workclass','education','marital-status',\n",
    "             'occupation','relationship','race','sex','native-country']\n",
    "#creating instance and applying to features\n",
    "OHE = ce.OneHotEncoder(cols = columns_1,use_cat_names=True)\n",
    "df_census_1 = OHE.fit_transform(df_census)\n",
    "\n",
    "\n",
    "#feature engineering: standardization, as we assume Gaussian distribution\n",
    "#selecting features to standardize\n",
    "columns_2 = ['age','education-num','hours-per-week']\n",
    "#creating instance and applying scalar\n",
    "scaler = StandardScaler()\n",
    "df_census_2 = df_census_1[columns_2].copy()\n",
    "columns_sd = scaler.fit_transform(df_census_1[columns_2])\n",
    "df_census_2[columns_2] = columns_sd\n",
    "\n",
    "df_census_ok = pd.concat([df_census_1, df_census_2], axis=1)"
   ]
  },
  {
   "cell_type": "code",
   "execution_count": 313,
   "id": "3560e505",
   "metadata": {},
   "outputs": [],
   "source": [
    "#selecting variables X (aka predictors, independent or feature)\n",
    "#selecting variable y (aka target or dependant)\n",
    "\n",
    "X = df_census_ok.drop(columns=['Over_50K'])\n",
    "y = df_census_ok['Over_50K']\n",
    "\n",
    "#splitting in train and test dataset\n",
    "X_train, X_test, y_train, y_test = train_test_split(X, y, \n",
    "                                                    test_size=0.3, random_state=42)"
   ]
  },
  {
   "cell_type": "code",
   "execution_count": 314,
   "id": "c59872d1",
   "metadata": {},
   "outputs": [],
   "source": [
    "#model Random Forest Classifier\n",
    "model_name = 'Random Forest Classifier'\n",
    "model = RandomForestClassifier().fit(X_train, y_train)\n",
    "\n",
    "#we obtain predicted values from test data\n",
    "y_pred = model.predict(X_test)\n",
    "\n",
    "#Accuracy\n",
    "acc = round(metrics.accuracy_score(y_test, y_pred),3)\n",
    "\n",
    "#Confusion Matrix\n",
    "confMatrix = confusion_matrix(y_test, y_pred)\n",
    "\n",
    "TN = confMatrix[0,0]\n",
    "TP = confMatrix[1,1]\n",
    "FN = confMatrix[1,0]\n",
    "FP = confMatrix[0,1]\n",
    "\n",
    "#Other metrics\n",
    "target_names = ['Below 50K (0)', 'Over 50K (1)']\n",
    "classReport = classification_report(y_test, y_pred, target_names=target_names, output_dict=True)\n",
    "\n",
    "pre = round(classReport['Over 50K (1)'].get('precision'),3)\n",
    "sen = round(classReport['Over 50K (1)'].get('recall'),3)\n",
    "f1s = round(classReport['Over 50K (1)'].get('f1-score'),3)\n",
    "spe = round(classReport['Below 50K (0)'].get('recall'),3)"
   ]
  },
  {
   "cell_type": "markdown",
   "id": "1f9f5377",
   "metadata": {
    "variables": {
     "FN": "762",
     "FP": "1005",
     "TN": "1309",
     "TP": "6693",
     "acc": "0.819",
     "f1s": "0.883",
     "model": "RandomForestClassifier()",
     "model_name": "Random Forest Classifier",
     "pre": "0.869",
     "sen": "0.898",
     "spe": "0.566"
    }
   },
   "source": [
    "| {{model_name}} | Predicted (Below 50K) | Predicted (Over 50K) | \n",
    "| ----------- | ----------- | ----------- |\n",
    "| Actual (Below 50K) | TN | FP |  \n",
    "| Actual (Over 50K) | FN | TP |  \n",
    "\n",
    "\n",
    "| {{model_name}} | Predicted (0) | Predicted (1) | \n",
    "| ----------- | ----------- | ----------- |\n",
    "| Actual (0) | {{TN}} | {{FP}} |  \n",
    "| Actual (1) | {{FN}} | {{TP}} |  \n",
    "\n",
    "| model_name | Accuracy | Precision | F1 Score | Sensitivity | Specifity | \n",
    "| ----------- | ----------- | ----------- | ----------- | ----------- | ----------- | \n",
    "| {{model}} | {{acc}} | {{pre}} | {{f1s}} | {{sen}} | {{spe}} | \n"
   ]
  },
  {
   "cell_type": "code",
   "execution_count": 315,
   "id": "d1a8204e",
   "metadata": {
    "scrolled": true
   },
   "outputs": [
    {
     "name": "stdout",
     "output_type": "stream",
     "text": [
      "{'bootstrap': True, 'ccp_alpha': 0.0, 'class_weight': None, 'criterion': 'gini', 'max_depth': None, 'max_features': 'auto', 'max_leaf_nodes': None, 'max_samples': None, 'min_impurity_decrease': 0.0, 'min_impurity_split': None, 'min_samples_leaf': 1, 'min_samples_split': 2, 'min_weight_fraction_leaf': 0.0, 'n_estimators': 100, 'n_jobs': None, 'oob_score': False, 'random_state': None, 'verbose': 0, 'warm_start': False}\n"
     ]
    }
   ],
   "source": [
    "#we apply GridSearch to find the best parameters\n",
    "\n",
    "#Random forest estimator\n",
    "model_est = RandomForestClassifier()\n",
    "\n",
    "#default parameters\n",
    "print(model_est.get_params())\n",
    "\n",
    "#selection of parameters and creating a dict for grid tool\n",
    "n_estimators = [100, 300, 500]\n",
    "max_depth = [5, 8, 15]\n",
    "min_samples_split = [2, 5, 10]\n",
    "min_samples_leaf = [1, 2, 5] \n",
    "\n",
    "hyperF = dict(n_estimators = n_estimators, max_depth = max_depth,  \n",
    "             min_samples_split = min_samples_split, \n",
    "            min_samples_leaf = min_samples_leaf)\n",
    "\n",
    "model_grid = GridSearchCV(estimator=model_est, \n",
    "                          param_grid=hyperF, n_jobs = -1)\n",
    "\n",
    "model_hyper = model_grid.fit(X_train, y_train)\n",
    "print('\\nBest Parameters:\\n ', model_hyper.best_params_)"
   ]
  },
  {
   "cell_type": "markdown",
   "id": "50c75adc",
   "metadata": {},
   "source": [
    "According to GridSearch algorithm, the best parameters for this algorithm are:\n",
    "- max_depth: 15\n",
    "- min_samples_leaf: 1\n",
    "- min_samples_split: 10 \n",
    "- n_estimators: 500"
   ]
  },
  {
   "cell_type": "markdown",
   "id": "47352f39",
   "metadata": {},
   "source": [
    "Once we know the ML structure we can make the pipeline"
   ]
  },
  {
   "cell_type": "code",
   "execution_count": 316,
   "id": "3fbea514",
   "metadata": {},
   "outputs": [],
   "source": [
    "#pre-processsing step\n",
    "#dropping columns\n",
    "#one-hot encoding\n",
    "#scaling data\n",
    "\n",
    "columns_drop = ['fnlwgt','capital-gain','capital-loss','salary']\n",
    "columns_scale = ['age','education-num','hours-per-week']\n",
    "columns_ohe = ['workclass','education','marital-status',\n",
    "             'occupation','relationship','race','sex','native-country']\n",
    "\n",
    "transformers=[('drop_columns', 'drop', columns_drop), \n",
    "              ('scale_data', StandardScaler(), columns_scale),\n",
    "              ('categorical transformer', ce.OneHotEncoder(), columns_ohe)]\n",
    "\n",
    "pre_process = ColumnTransformer(remainder='passthrough',\n",
    "                                transformers=transformers)"
   ]
  },
  {
   "cell_type": "code",
   "execution_count": 317,
   "id": "3e92f4c0",
   "metadata": {},
   "outputs": [],
   "source": [
    "steps = [('pre-processing', pre_process), \n",
    "         ('RandomForest', RandomForestClassifier())]\n",
    "\n",
    "#creating pipeline object\n",
    "model_pipeline = Pipeline(steps) "
   ]
  },
  {
   "cell_type": "code",
   "execution_count": 318,
   "id": "ca2c579c",
   "metadata": {},
   "outputs": [],
   "source": [
    "#importing dataset\n",
    "\n",
    "names = ['age', 'workclass', 'fnlwgt', 'education', 'education-num', 'marital-status', \n",
    "         'occupation', 'relationship', 'race','sex','capital-gain',\n",
    "         'capital-loss','hours-per-week','native-country','salary']\n",
    "df_census_pln = pd.read_csv('adult.data', names=names) \n",
    "\n",
    "#adding a new column 'Over 50K' for classes\n",
    "df_census_pln.loc[df_census_pln['salary'].str.contains('<=50K'), 'Over_50K'] = 1\n",
    "df_census_pln.loc[df_census_pln['salary'].str.contains('>50K'), 'Over_50K'] = 0"
   ]
  },
  {
   "cell_type": "code",
   "execution_count": 319,
   "id": "028257da",
   "metadata": {},
   "outputs": [
    {
     "data": {
      "text/plain": [
       "Pipeline(steps=[('pre-processing',\n",
       "                 ColumnTransformer(remainder='passthrough',\n",
       "                                   transformers=[('drop_columns', 'drop',\n",
       "                                                  ['fnlwgt', 'capital-gain',\n",
       "                                                   'capital-loss', 'salary']),\n",
       "                                                 ('scale_data',\n",
       "                                                  StandardScaler(),\n",
       "                                                  ['age', 'education-num',\n",
       "                                                   'hours-per-week']),\n",
       "                                                 ('categorical transformer',\n",
       "                                                  OneHotEncoder(),\n",
       "                                                  ['workclass', 'education',\n",
       "                                                   'marital-status',\n",
       "                                                   'occupation', 'relationship',\n",
       "                                                   'race', 'sex',\n",
       "                                                   'native-country'])])),\n",
       "                ('RandomForest', RandomForestClassifier())])"
      ]
     },
     "execution_count": 319,
     "metadata": {},
     "output_type": "execute_result"
    }
   ],
   "source": [
    "X = df_census_pln.drop(columns=['Over_50K'])\n",
    "y = df_census_pln['Over_50K']\n",
    "\n",
    "#splitting in train and test dataset\n",
    "X_train,X_test,y_train,y_test = train_test_split(X, y,\n",
    "                                                    test_size=0.3, random_state=42)\n",
    "\n",
    "model_pipeline.fit(X_train,y_train)"
   ]
  },
  {
   "cell_type": "code",
   "execution_count": 320,
   "id": "1f2339bf",
   "metadata": {},
   "outputs": [],
   "source": [
    "#we obtain predicted values from test data\n",
    "y_pred = model_pipeline.predict(X_test)\n",
    "\n",
    "#Accuracy\n",
    "acc = round(metrics.accuracy_score(y_test, y_pred),3)\n",
    "\n",
    "#Confusion Matrix\n",
    "confMatrix = confusion_matrix(y_test, y_pred)\n",
    "\n",
    "TN = confMatrix[0,0]\n",
    "TP = confMatrix[1,1]\n",
    "FN = confMatrix[1,0]\n",
    "FP = confMatrix[0,1]\n",
    "\n",
    "#Other metrics\n",
    "target_names = ['Below 50K (0)', 'Over 50K (1)']\n",
    "classReport = classification_report(y_test, y_pred, target_names=target_names, output_dict=True)\n",
    "\n",
    "pre = round(classReport['Over 50K (1)'].get('precision'),3)\n",
    "sen = round(classReport['Over 50K (1)'].get('recall'),3)\n",
    "f1s = round(classReport['Over 50K (1)'].get('f1-score'),3)\n",
    "spe = round(classReport['Below 50K (0)'].get('recall'),3)"
   ]
  },
  {
   "cell_type": "markdown",
   "id": "1a9f34f3",
   "metadata": {
    "variables": {
     "FN": "778",
     "FP": "999",
     "TN": "1315",
     "TP": "6677",
     "acc": "0.818",
     "f1s": "0.883",
     "model": "RandomForestClassifier()",
     "model_name": "Random Forest Classifier",
     "pre": "0.87",
     "sen": "0.896",
     "spe": "0.568"
    }
   },
   "source": [
    "| {{model_name}} | Predicted (Below 50K) | Predicted (Over 50K) | \n",
    "| ----------- | ----------- | ----------- |\n",
    "| Actual (Below 50K) | TN | FP |  \n",
    "| Actual (Over 50K) | FN | TP |  \n",
    "\n",
    "\n",
    "| {{model_name}} | Predicted (0) | Predicted (1) | \n",
    "| ----------- | ----------- | ----------- |\n",
    "| Actual (0) | {{TN}} | {{FP}} |  \n",
    "| Actual (1) | {{FN}} | {{TP}} |  \n",
    "\n",
    "| model_name | Accuracy | Precision | F1 Score | Sensitivity | Specifity | \n",
    "| ----------- | ----------- | ----------- | ----------- | ----------- | ----------- | \n",
    "| {{model}} | {{acc}} | {{pre}} | {{f1s}} | {{sen}} | {{spe}} | "
   ]
  },
  {
   "cell_type": "code",
   "execution_count": 321,
   "id": "b6c39f27",
   "metadata": {},
   "outputs": [
    {
     "name": "stdout",
     "output_type": "stream",
     "text": [
      "{'RandomForest__max_depth': 15, 'RandomForest__min_samples_leaf': 1, 'RandomForest__min_samples_split': 2, 'RandomForest__n_estimators': 500}\n"
     ]
    }
   ],
   "source": [
    "#applying gridsearch\n",
    "\n",
    "n_estimators = [100, 300, 500]\n",
    "max_depth = [5, 8, 15]\n",
    "min_samples_split = [2, 5, 10]\n",
    "min_samples_leaf = [1, 2, 5]\n",
    "\n",
    "hyperF = dict(RandomForest__n_estimators = n_estimators,\n",
    "              RandomForest__max_depth = max_depth,\n",
    "              RandomForest__min_samples_split = min_samples_split,\n",
    "              RandomForest__min_samples_leaf = min_samples_leaf)\n",
    "\n",
    "model_grid = GridSearchCV(model_pipeline, param_grid=hyperF)\n",
    "\n",
    "model_hyper = model_grid.fit(X_train, y_train)\n",
    "\n",
    "print(model_hyper.best_params_)\n"
   ]
  },
  {
   "cell_type": "markdown",
   "id": "80b472c3",
   "metadata": {},
   "source": [
    "According to GridSearch algorithm, the best parameters for this algorithm are:\n",
    "- max_depth: 15\n",
    "- min_samples_leaf: 1\n",
    "- min_samples_split: 2 \n",
    "- n_estimators: 500"
   ]
  },
  {
   "cell_type": "markdown",
   "id": "b8e7e174",
   "metadata": {},
   "source": [
    "### Exercici 2 (Nivell 1)\n",
    "#### Agafa un text en anglès que vulguis, i calcula'n la freqüència de les paraules."
   ]
  },
  {
   "cell_type": "code",
   "execution_count": 47,
   "id": "8f50b904",
   "metadata": {},
   "outputs": [],
   "source": [
    "import nltk\n",
    "from nltk.tokenize import sent_tokenize\n",
    "from nltk.tokenize import word_tokenize\n",
    "from nltk.probability import FreqDist\n",
    "import matplotlib.pyplot as plt "
   ]
  },
  {
   "cell_type": "code",
   "execution_count": 48,
   "id": "61b1c50f",
   "metadata": {},
   "outputs": [
    {
     "name": "stdout",
     "output_type": "stream",
     "text": [
      "<FreqDist with 185 samples and 351 outcomes>\n",
      "[(',', 26), ('the', 18), ('.', 15), ('of', 12), ('and', 11), ('in', 8), ('to', 8), ('a', 7), ('that', 5), ('have', 5), ('environment', 5), ('as', 5), ('can', 5), ('are', 4), ('many', 3), ('planet', 3), ('natural', 3), ('on', 3), ('into', 3), ('not', 3), ('pollution', 3), ('their', 3), ('effects', 3), ('In', 2), ('our', 2), ('modern', 2), ('world', 2), ('factors', 2), ('place', 2), ('While', 2)]\n"
     ]
    },
    {
     "data": {
      "image/png": "[encoded data removed]",
      "text/plain": [
       "<Figure size 432x288 with 1 Axes>"
      ]
     },
     "metadata": {
      "needs_background": "light"
     },
     "output_type": "display_data"
    }
   ],
   "source": [
    "#text from (https://lingua.com/english/reading/#exercises)\n",
    "\n",
    "text=\"\"\"In our modern world, there are many factors that place the wellbeing of the planet in jeopardy. While some people have the opinion that environmental problems are just a natural occurrence, others believe that human beings have a huge impact on the environment. Regardless of your viewpoint, take into consideration the following factors that place our environment as well as the planet Earth in danger.\n",
    "Global warming or climate change is a major contributing factor to environmental damage. Because of global warming, we have seen an increase in melting ice caps, a rise in sea levels, and the formation of new weather patterns. These weather patterns have caused stronger storms, droughts, and flooding in places that they formerly did not occur.\n",
    "Air pollution is primarily caused as a result of excessive and unregulated emissions of carbon dioxide into the air. Pollutants mostly emerge from the burning of fossil fuels in addition to chemicals, toxic substances, and improper waste disposal. Air pollutants are absorbed into the atmosphere, and they can cause smog, a combination of smoke and fog, in valleys as well as produce acidic precipitation in areas far away from the pollution source.\n",
    "In many areas, people and local governments do not sustainably use their natural resources. Mining for natural gases, deforestation, and even improper use of water resources can have tremendous effects on the environment. While these strategies often attempt to boost local economies, their effects can lead to oil spills, interrupted animal habitats, and droughts.\n",
    "Ultimately, the effects of the modern world on the environment can lead to many problems. Human beings need to consider the repercussions of their actions, trying to reduce, reuse, and recycle materials while establishing environmentally sustainable habits. If measures are not taken to protect the environment, we can potentially witness the extinction of more endangered species, worldwide pollution, and a completely uninhabitable planet.\"\"\"\n",
    "\n",
    "#first we split the text in words\n",
    "tokenized_word=word_tokenize(text)\n",
    "\n",
    "#now we calculate frequency of words\n",
    "fdist = FreqDist(tokenized_word)\n",
    "print(fdist)\n",
    "\n",
    "#5 most common words\n",
    "print(fdist.most_common(30))\n",
    "\n",
    "#plotting word distribution\n",
    "fdist.plot(30,cumulative=False)\n",
    "plt.show()"
   ]
  },
  {
   "cell_type": "markdown",
   "id": "09ba5f0a",
   "metadata": {},
   "source": [
    "### Exercici 1 (Nivell 2)\n",
    "#### Treu les stopwords i realitza stemming al teu conjunt de dades."
   ]
  },
  {
   "cell_type": "code",
   "execution_count": 40,
   "id": "ea4e7699",
   "metadata": {},
   "outputs": [
    {
     "name": "stdout",
     "output_type": "stream",
     "text": [
      "Text without stopwords:\n",
      " In modern world , many factors place wellbeing planet jeopardy . While people opinion environmental problems natural occurrence , others believe human beings huge impact environment . Regardless viewpoint , take consideration following factors place environment well planet Earth danger . Global warming climate change major contributing factor environmental damage . Because global warming , seen increase melting ice caps , rise sea levels , formation new weather patterns . These weather patterns caused stronger storms , droughts , flooding places formerly occur . Air pollution primarily caused result excessive unregulated emissions carbon dioxide air . Pollutants mostly emerge burning fossil fuels addition chemicals , toxic substances , improper waste disposal . Air pollutants absorbed atmosphere , cause smog , combination smoke fog , valleys well produce acidic precipitation areas far away pollution source . In many areas , people local governments sustainably use natural resources . Mining natural gases , deforestation , even improper use water resources tremendous effects environment . While strategies often attempt boost local economies , effects lead oil spills , interrupted animal habitats , droughts . Ultimately , effects modern world environment lead many problems . Human beings need consider repercussions actions , trying reduce , reuse , recycle materials establishing environmentally sustainable habits . If measures taken protect environment , potentially witness extinction endangered species , worldwide pollution , completely uninhabitable planet .\n",
      "\n",
      "Stop words detected:\n",
      " ['our', 'there', 'are', 'that', 'the', 'of', 'the', 'in', 'some', 'have', 'the', 'that', 'are', 'just', 'a', 'that', 'have', 'a', 'on', 'the', 'of', 'your', 'into', 'the', 'that', 'our', 'as', 'as', 'the', 'in', 'or', 'is', 'a', 'to', 'of', 'we', 'have', 'an', 'in', 'a', 'in', 'and', 'the', 'of', 'have', 'and', 'in', 'that', 'they', 'did', 'not', 'is', 'as', 'a', 'of', 'and', 'of', 'into', 'the', 'from', 'the', 'of', 'in', 'to', 'and', 'are', 'into', 'the', 'and', 'they', 'can', 'a', 'of', 'and', 'in', 'as', 'as', 'in', 'from', 'the', 'and', 'do', 'not', 'their', 'for', 'and', 'of', 'can', 'have', 'on', 'the', 'these', 'to', 'their', 'can', 'to', 'and', 'the', 'of', 'the', 'on', 'the', 'can', 'to', 'to', 'the', 'of', 'their', 'to', 'and', 'while', 'are', 'not', 'to', 'the', 'we', 'can', 'the', 'of', 'more', 'and', 'a']\n",
      "\n",
      "Stemmed Text:\n",
      " in modern world , mani factor place wellb planet jeopardi . while peopl opinion environment problem natur occurr , other believ human be huge impact environ . regardless viewpoint , take consider follow factor place environ well planet earth danger . global warm climat chang major contribut factor environment damag . becaus global warm , seen increas melt ice cap , rise sea level , format new weather pattern . these weather pattern caus stronger storm , drought , flood place formerli occur . air pollut primarili caus result excess unregul emiss carbon dioxid air . pollut mostli emerg burn fossil fuel addit chemic , toxic substanc , improp wast dispos . air pollut absorb atmospher , caus smog , combin smoke fog , valley well produc acid precipit area far away pollut sourc . in mani area , peopl local govern sustain use natur resourc . mine natur gase , deforest , even improp use water resourc tremend effect environ . while strategi often attempt boost local economi , effect lead oil spill , interrupt anim habitat , drought . ultim , effect modern world environ lead mani problem . human be need consid repercuss action , tri reduc , reus , recycl materi establish environment sustain habit . if measur taken protect environ , potenti wit extinct endang speci , worldwid pollut , complet uninhabit planet .\n"
     ]
    }
   ],
   "source": [
    "#removing stopwords\n",
    "\n",
    "from nltk.corpus import stopwords\n",
    "\n",
    "#we create a filter with stopwords in english\n",
    "stop_words=set(stopwords.words(\"english\"))\n",
    "#print(stop_words)\n",
    "\n",
    "#we tokenized text in sentences\n",
    "tokenized_word=word_tokenize(text)\n",
    "#print(tokenized_word)\n",
    "\n",
    "#we create a list to keep text without stopwords\n",
    "filtered_word=[]\n",
    "stop_words_detected=[]\n",
    "for w in tokenized_word:\n",
    "    if w not in stop_words:\n",
    "        filtered_word.append(w)\n",
    "    else:\n",
    "        stop_words_detected.append(w)\n",
    "    \n",
    "#we join the words    \n",
    "text_stopwords = ' '.join(filtered_word)\n",
    "   \n",
    "print(\"Text without stopwords:\\n\",text_stopwords)\n",
    "print(\"\\nStop words detected:\\n\",stop_words_detected)\n",
    "\n",
    "#stemming\n",
    "\n",
    "from nltk.stem import PorterStemmer\n",
    "\n",
    "ps = PorterStemmer()\n",
    "\n",
    "stemmed_words=[]\n",
    "for w in filtered_word:\n",
    "    stemmed_words.append(ps.stem(w))\n",
    "\n",
    "text_stemmed = ' '.join(stemmed_words)\n",
    "print(\"\\nStemmed Text:\\n\",text_stemmed)"
   ]
  },
  {
   "cell_type": "markdown",
   "id": "bd6a92bb",
   "metadata": {},
   "source": [
    "### Exercici 1 (Nivell 3)\n",
    "#### Realitza sentiment analysis al teu conjunt de dades."
   ]
  },
  {
   "cell_type": "markdown",
   "id": "d97ce7f4",
   "metadata": {},
   "source": [
    "I did not have enough time to finish this exercize :("
   ]
  },
  {
   "cell_type": "code",
   "execution_count": 46,
   "id": "12cf2818",
   "metadata": {},
   "outputs": [
    {
     "name": "stdout",
     "output_type": "stream",
     "text": [
      "\n",
      "Stemmed Text:\n",
      " In modern world , many factor place wellbeing planet jeopardy . While people opinion environmental problem natural occurrence , others believe human being huge impact environment . Regardless viewpoint , take consideration following factor place environment well planet Earth danger . Global warming climate change major contributing factor environmental damage . Because global warming , seen increase melting ice cap , rise sea level , formation new weather pattern . These weather pattern caused stronger storm , drought , flooding place formerly occur . Air pollution primarily caused result excessive unregulated emission carbon dioxide air . Pollutants mostly emerge burning fossil fuel addition chemical , toxic substance , improper waste disposal . Air pollutant absorbed atmosphere , cause smog , combination smoke fog , valley well produce acidic precipitation area far away pollution source . In many area , people local government sustainably use natural resource . Mining natural gas , deforestation , even improper use water resource tremendous effect environment . While strategy often attempt boost local economy , effect lead oil spill , interrupted animal habitat , drought . Ultimately , effect modern world environment lead many problem . Human being need consider repercussion action , trying reduce , reuse , recycle material establishing environmentally sustainable habit . If measure taken protect environment , potentially witness extinction endangered specie , worldwide pollution , completely uninhabitable planet . \n",
      "\n",
      "MultinomialNB Accuracy: 0.6049169122986885\n"
     ]
    }
   ],
   "source": [
    "#lemmatization\n",
    "from nltk.stem.wordnet import WordNetLemmatizer\n",
    "lem = WordNetLemmatizer()\n",
    "\n",
    "lemma_words=[]\n",
    "for w in filtered_word:\n",
    "    lemma_word = lem.lemmatize(w)\n",
    "    lemma_words.append(lemma_word)\n",
    "    \n",
    "text_lemmatized = ' '.join(lemma_words)\n",
    "print(\"\\nStemmed Text:\\n\",text_lemmatized,\"\\n\")\n",
    "\n",
    "#tokenizer to remove unwanted elements from out data like symbols and numbers\n",
    "token = RegexpTokenizer(r'[a-zA-Z0-9]+')\n",
    "cv = CountVectorizer(lowercase=True,stop_words='english',\n",
    "                     ngram_range = (1,1),tokenizer = token.tokenize)\n",
    "text_sentiment= cv.fit_transform(lemma_words)\n",
    "\n",
    "#we will use the \"Sentiment analysis of movies\" from kaggle to train the model\n",
    "data=pd.read_csv('train.tsv', sep='\\t')\n",
    "\n",
    "from sklearn.feature_extraction.text import CountVectorizer\n",
    "from nltk.tokenize import RegexpTokenizer\n",
    "#tokenizer to remove unwanted elements from out data like symbols and numbers\n",
    "token = RegexpTokenizer(r'[a-zA-Z0-9]+')\n",
    "cv = CountVectorizer(lowercase=True,stop_words='english',\n",
    "                     ngram_range = (1,1),tokenizer = token.tokenize)\n",
    "text_counts= cv.fit_transform(data['Phrase'])\n",
    "\n",
    "X_train, X_test, y_train, y_test = train_test_split(\n",
    "    text_counts, data['Sentiment'], test_size=0.3, random_state=1)\n",
    "\n",
    "from sklearn.naive_bayes import MultinomialNB\n",
    "#Import scikit-learn metrics module for accuracy calculation\n",
    "from sklearn import metrics\n",
    "# Model Generation Using Multinomial Naive Bayes\n",
    "clf = MultinomialNB().fit(X_train, y_train)\n",
    "predicted= clf.predict(X_test)\n",
    "print(\"MultinomialNB Accuracy:\",metrics.accuracy_score(y_test, predicted))\n",
    "#print(X_test)\n",
    "#print(predicted)\n",
    "\n",
    "#we obtain predicted values from text\n",
    "#predicted = clf.predict(text_sentiment)\n",
    "#print(text_sentiment)\n",
    "#print(predicted)\n"
   ]
  }
 ],
 "metadata": {
  "kernelspec": {
   "display_name": "Python 3 (ipykernel)",
   "language": "python",
   "name": "python3"
  },
  "language_info": {
   "codemirror_mode": {
    "name": "ipython",
    "version": 3
   },
   "file_extension": ".py",
   "mimetype": "text/x-python",
   "name": "python",
   "nbconvert_exporter": "python",
   "pygments_lexer": "ipython3",
   "version": "3.9.7"
  }
 },
 "nbformat": 4,
 "nbformat_minor": 5
}
